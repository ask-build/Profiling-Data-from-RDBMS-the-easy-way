{
 "cells": [
  {
   "cell_type": "code",
   "execution_count": 7,
   "metadata": {
    "collapsed": true
   },
   "outputs": [],
   "source": [
    "import pyodbc\n",
    "import pandas as pd\n",
    "\n",
    "#test the connection\n",
    "cursor = connection.cursor()\n",
    "\n",
    "#try to get results into pandas data frame...Pulling Claims Data ~2.7Million records into a data frame (It could take a while)\n",
    "sql = (\"SELECT * FROM CLAIMS_DATA_2017\")\n",
    "cnn = pyodbc.connect('Driver={Oracle in OraClient11g_home1};DBQ=Schema_Name;Uid=userid;Pwd=password')\n",
    "data = pd.read_sql(sql, cnn)"
   ]
  },
  {
   "cell_type": "code",
   "execution_count": null,
   "metadata": {
    "collapsed": true
   },
   "outputs": [],
   "source": [
    "# View the Data\n",
    "data.tail()"
   ]
  },
  {
   "cell_type": "code",
   "execution_count": 5,
   "metadata": {
    "collapsed": true
   },
   "outputs": [],
   "source": [
    "# Basic Profiling in terms of Counts, Unique, Frequency, value with Top Frequenct \n",
    "#(Calculate Additional metrics in Excel if  needed,  for e.g. % Null etc)\n",
    "\n",
    "data_describe=data.describe(include='all')\n",
    "\n",
    "data_describe.to_csv('C:/Users/user/Documents/OUT/data_describe_claims.csv', sep=\"|\")"
   ]
  },
  {
   "cell_type": "code",
   "execution_count": 8,
   "metadata": {
    "collapsed": true
   },
   "outputs": [],
   "source": [
    "# Obtain All Unique Values in a Dataframe in the same order as the Columns occur in the Data\n",
    "\n",
    "# Process:\n",
    "#1. While looping over each column \n",
    "#2. Assign Unique Values to a List\n",
    "#3. Add this column to a temporary DataFrame\n",
    "#4. Concatenate this DataFrame to a final DataFrame\n",
    "\n",
    "#As for loop runs, all distinct values in each field get appended to the final DataFrame in the same order that the fields occur in Data  \n",
    "\n",
    "df=pd.DataFrame()\n",
    "dummy=[]\n",
    "\n",
    "for c in data.columns:\n",
    "    dummy=data[c].value_counts().index.tolist()\n",
    "    df_temp = pd.DataFrame({c:dummy})\n",
    "    frames = [df, df_temp]\n",
    "    df = pd.concat(frames, axis=1)\n",
    "    \n",
    "df\n",
    "df.to_csv('C:/Users/USER/Documents/OUT/unique_values_claims_data.csv', sep=\"|\")"
   ]
  }
 ],
 "metadata": {
  "kernelspec": {
   "display_name": "Python 3",
   "language": "python",
   "name": "python3"
  },
  "language_info": {
   "codemirror_mode": {
    "name": "ipython",
    "version": 3
   },
   "file_extension": ".py",
   "mimetype": "text/x-python",
   "name": "python",
   "nbconvert_exporter": "python",
   "pygments_lexer": "ipython3",
   "version": "3.6.2"
  }
 },
 "nbformat": 4,
 "nbformat_minor": 2
}
